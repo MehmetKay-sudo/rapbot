{
  "metadata": {
    "language_info": {
      "codemirror_mode": {
        "name": "python",
        "version": 3
      },
      "file_extension": ".py",
      "mimetype": "text/x-python",
      "name": "python",
      "nbconvert_exporter": "python",
      "pygments_lexer": "ipython3",
      "version": "3.8"
    },
    "kernelspec": {
      "name": "python",
      "display_name": "Python (Pyodide)",
      "language": "python"
    }
  },
  "nbformat_minor": 4,
  "nbformat": 4,
  "cells": [
    {
      "cell_type": "code",
      "source": "import time\nfrom os import system, name\n#import random\n\n# all bars are examples and can be modified\n# START // INITIALISATION-SIMULATION\n# establish list of names\nclass Intro:\n    names = [(\"cherry\", \"fearless\", \"rose\")]\n    print(names)\n    choosing_name = input(\"Enter your name: \")\n    if choosing_name in names:\n        print(choosing_name)\n#        break\n# here will be code to exit() program\n# check string with input // data\n    def simulation():\n        for x in names:\n            if choosing_name in names:\n                time.sleep(1)\n                print(\".\" + \".\" + \".\" + \"processing data\" + \".\" + \".\" + \".\")\n                time.sleep(2)\n                print(\"Please wait. \")\n                time.sleep(3)\n                print(\"Name chosen. \")\n                time.sleep(1)\n            break\n\nsimulation1 = simulation()\nprint(simulation1)\n\n#  flushing the screen\n# def clear():\n\n    # battle starts\ndef simulation2():\n        print(\"You wanna rhyme against me? \")\n        print(\"Let's see, what you got!\")\n        time.sleep(2)\n        print(\"Are \")\n        time.sleep(1)\n        print(\"you \")\n        time.sleep(1)\n        print(\"READY? \")\n    # write a timer / counter\ndef simulation3():\n        time.sleep(2)\n        print(\"Let's go in...\" + \"3\" + \"...\" )\n        time.sleep(1)\n        print(\"Let's go in...\" + \"2\" + \"...\")\n        time.sleep(1)\n        print(\"Let's go in...\" + \"1\" + \"...\")\n    # RAP BATTLE // ACTUAL ENCOUNTER\n    # 1st ROUND OF BATTLE\n\n#class Battle:\nclass Round1:\n        while True:\n            def bars():\n                bar1 = str(\"I rhyme fine!\")\n                bar2 = str(\"I rhyme great!\")\n                bar3 = str(\"I am the best in the state!\")\n                # mix 1st round syntax\n                syntax_bot = [str(bar1), str(bar2), str(bar3)]\n                print(syntax_bot)\n                # creating loops for barsdef bars_loop()\n                for y in syntax_bot:\n                    if y in syntax_bot:\n                        print(bar1)\n                        print(bar2)\n                        print(bar3)\n                        break\n            # print the options the rhymer has / 1st round\n            def options():\n                rhyme01 = str(\"1. I am greater! \")\n                rhyme02 = str(\"2. I rhyme great! \")\n                rhyme03 = str(\"3. You ain't a saint, the worst in the state!\")\n                player_rhymes = (str(rhyme01), str(rhyme02), str(rhyme03))\n                print(player_rhymes)\n                # player has to put input into the game\n                time.sleep(1)\n                rhyme_user = str(input(\"Enter your rhyme sucker: \"))\n                # compare rhyme from user with syntax from bot\n            def compare():\n                for z in syntax_bot:\n                    if rhyme_user == rhyme01:\n                        print(\"Nice try fella! \")\n                        print(\"Try again! \")\n                        print(str(input(\"Enter your rhyme sucker: \")))\n                    else:\n                        print(False)\n                        return()\n                    if rhyme_user == rhyme02:\n                        print(\"Why are you telling the same thing, as i do? \")\n                        print(\"Try again! \")\n                        print(str(input(\"Enter your rhyme sucker: \")))\n                    else:\n                        print(False)\n                        break\n                    if rhyme_user == rhyme03:\n                        print(\"AAAAAAHHHHHH! \")\n                        print(\"You beat me once\" + \", \" + \"Let's see, what you will do in the next round! \")\n                        print(True)\n                        break\n    # 2nd ROUND OF BATTLE\nclass Round2:\n        while True:\n            def bars2():\n                bar4 = str(\"I am straight! \")\n                bar5 = str(\"Big my brain! \")\n                bar6 = str(\"Skilled and insane! \")\n                syntax_bot2 = [str(bar4), str(bar5), str(bar6)]\n                print(syntax_bot2)\n            # creating loop2 for syntax02\n            def bars_loop2():\n                for i in syntax_bot2:\n                    if i in syntax_bot2:\n                        print(bar4)\n                        print(bar5)\n                        print(bar6)\n                    break\n            # print the options the rhymer has\n            def options2():\n                rhyme04 = str(\"1. You are late! \")\n                rhyme05 = str(\"2. Big my brain! \")\n                rhyme06 = str(\"3. You just faint and i maintain! \")\n                player_rhymes = (str(rhyme04), str(rhyme05), str(rhyme06))\n                print(player_rhymes)\n                # player has to put input into the game\n                rhyme_user2 = str(input(\"Enter your rhyme sucker: \"))\n                # compare rhyme from user with syntax from bot\n            def compare2():\n                for i in syntax_bot2:\n                    if rhyme_user2 == rhyme04:\n                        print(\"Nice try fella! \")\n                        print(\"Try again! \")\n                        print(str(input(\"Enter your rhyme sucker: \")))\n                    else:\n                        print(False)\n                    break\n                    if rhyme_user == rhyme05:\n                        print(\"Why are you telling the same thing, as i do? \")\n                        print(\"Try again! \")\n                        print(str(input(\"Enter your rhyme sucker: \")))\n                    else:\n                        print(False)\n                        break\n                    if rhyme_user == rhyme06:\n                        print(\"You beat me twice, let us see next round\")\n                        break\nclass Round3:\n        while True:\n            def bars3():\n                bar7 = str(\"Killer instinct. \")\n                bar8 = str(\"Kill you with one ink. \")\n                bar9 = str(\"Don't try me, otherwise you go exstinct. \")\n                # mix 1st round syntax\n                syntax_bot3 = [str(bar7), str(bar8), str(bar9)]\n                print(syntax_bot3)\n                # creating loops\n            def bars_loop3():\n                for y in syntax_bot3:\n                    print(bar7)\n                    print(bar8)\n                    print(bar9)\n                    break\n                    # print the options the rhymer has\n            def options3():\n                rhyme07 = str(\"1. I am greater! \")\n                rhyme08 = str(\"2. Kill you with one ink. \")\n                rhyme09 = str(\"3. You fake n-sync, i terminate before an eye blink! \")\n                player_rhymes = (str(rhyme07), str(rhyme08), str(rhyme09))\n                print(player_rhymes)\n                # player has to put input into the game\n                rhyme_user3 = str(input(\"Enter your rhyme sucker: \"))\n                # compare rhyme from user with syntax from bot\n            def compare3():\n                for b in syntax_bot3:\n                    if rhyme_user == rhyme07:\n                        print(\"Nice try fella! \")\n                        print(\"Try again! \")\n                        print(str(input(\"Enter your rhyme sucker: \")))\n                    else:\n                        print(False)\n                        break\n                    if rhyme_user == rhyme08:\n                        print(\"Why are you telling the same thing, as i do? \")\n                        print(\"Try again! \")\n                        print(str(input(\"Enter your rhyme sucker: \")))\n                    else:\n                        print(False)\n                        break\n                    if rhyme_user == rhyme09:\n                        print(\"AAAAAAHHHHHH! \")\n                        print(\"You won! \"+ \", \" + \"Let me mourn my defeat rap-samurai! \")\n                    break\n",
      "metadata": {
        "trusted": true
      },
      "execution_count": 1,
      "outputs": [
        {
          "name": "stdout",
          "text": "[('cherry', 'fearless', 'rose')]\n",
          "output_type": "stream"
        },
        {
          "ename": "<class 'NameError'>",
          "evalue": "name 'simulation' is not defined",
          "traceback": [
            "\u001b[0;31m---------------------------------------------------------------------------\u001b[0m",
            "\u001b[0;31mNameError\u001b[0m                                 Traceback (most recent call last)",
            "Cell \u001b[0;32mIn[1], line 29\u001b[0m\n\u001b[1;32m     26\u001b[0m                 time\u001b[38;5;241m.\u001b[39msleep(\u001b[38;5;241m1\u001b[39m)\n\u001b[1;32m     27\u001b[0m             \u001b[38;5;28;01mbreak\u001b[39;00m\n\u001b[0;32m---> 29\u001b[0m simulation1 \u001b[38;5;241m=\u001b[39m \u001b[43msimulation\u001b[49m()\n\u001b[1;32m     30\u001b[0m \u001b[38;5;28mprint\u001b[39m(simulation1)\n\u001b[1;32m     32\u001b[0m \u001b[38;5;66;03m#  flushing the screen\u001b[39;00m\n\u001b[1;32m     33\u001b[0m \u001b[38;5;66;03m# def clear():\u001b[39;00m\n\u001b[1;32m     34\u001b[0m \n\u001b[1;32m     35\u001b[0m     \u001b[38;5;66;03m# battle starts\u001b[39;00m\n",
            "\u001b[0;31mNameError\u001b[0m: name 'simulation' is not defined"
          ],
          "output_type": "error"
        }
      ]
    },
    {
      "cell_type": "code",
      "source": "",
      "metadata": {},
      "execution_count": null,
      "outputs": []
    }
  ]
}