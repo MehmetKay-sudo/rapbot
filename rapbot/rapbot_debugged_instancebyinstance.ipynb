{
  "metadata": {
    "language_info": {
      "codemirror_mode": {
        "name": "python",
        "version": 3
      },
      "file_extension": ".py",
      "mimetype": "text/x-python",
      "name": "python",
      "nbconvert_exporter": "python",
      "pygments_lexer": "ipython3",
      "version": "3.8"
    },
    "kernelspec": {
      "name": "python",
      "display_name": "Python (Pyodide)",
      "language": "python"
    }
  },
  "nbformat_minor": 4,
  "nbformat": 4,
  "cells": [
    {
      "cell_type": "code",
      "source": "# first instance runs through\nimport time\nfrom os import system, name\n#import random\n\n# all bars are examples and can be modified\n# START // INITIALISATION-SIMULATION\n# establish list of names\nclass Intro:\n    names = [(\"cherry\", \"fearless\", \"rose\")]\n    print(names)\n    choosing_name = input(\"Enter your name: \")\n    if choosing_name in names:\n        print(choosing_name)\n#        break\n# here will be code to exit() program\n# check string with input // data\n    def simulation():\n        for x in names:\n            if choosing_name in names:\n                time.sleep(1)\n                print(\".\" + \".\" + \".\" + \"processing data\" + \".\" + \".\" + \".\")\n                time.sleep(2)\n                print(\"Please wait. \")\n                time.sleep(3)\n                print(\"Name chosen. \")\n                time.sleep(1)\n            break\ndef simulation2():\n        print(\"You wanna rhyme against me? \")\n        print(\"Let's see, what you got!\")\n        time.sleep(2)\n        print(\"Are \")\n        time.sleep(1)\n        print(\"you \")\n        time.sleep(1)\n        print(\"READY? \")\n    # write a timer / counter\ndef simulation3():\n        time.sleep(2)\n        print(\"Let's go in...\" + \"3\" + \"...\" )\n        time.sleep(1)\n        print(\"Let's go in...\" + \"2\" + \"...\")\n        time.sleep(1)\n        print(\"Let's go in...\" + \"1\" + \"...\")",
      "metadata": {
        "trusted": true
      },
      "execution_count": 10,
      "outputs": [
        {
          "name": "stdout",
          "text": "[('cherry', 'fearless', 'rose')]\n",
          "output_type": "stream"
        },
        {
          "output_type": "stream",
          "name": "stdin",
          "text": "Enter your name:  'rose'\n"
        }
      ]
    },
    {
      "cell_type": "code",
      "source": "# let the bot rap\n\nimport time \ndef simulation2():\n        print(\"You wanna rhyme against me? \")\n        print(\"Let's see, what you got!\")\n        time.sleep(2)\n        print(\"Are \")\n        time.sleep(1)\n        print(\"you \")\n        time.sleep(1)\n        print(\"READY? \")\n    # write a timer / counter\ndef simulation3():\n        time.sleep(2)\n        print(\"Let's go in...\" + \"3\" + \"...\" )\n        time.sleep(1)\n        print(\"Let's go in...\" + \"2\" + \"...\")\n        time.sleep(1)\n        print(\"Let's go in...\" + \"1\" + \"...\")",
      "metadata": {
        "trusted": true
      },
      "execution_count": 13,
      "outputs": []
    },
    {
      "cell_type": "code",
      "source": "",
      "metadata": {},
      "execution_count": null,
      "outputs": []
    }
  ]
}