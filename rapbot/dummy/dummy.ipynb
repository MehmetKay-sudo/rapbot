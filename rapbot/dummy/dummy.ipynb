{
  "metadata": {
    "widgets": {
      "application/vnd.jupyter.widget-state+json": {
        "version_major": 2,
        "version_minor": 0,
        "state": {}
      }
    },
    "language_info": {
      "codemirror_mode": {
        "name": "python",
        "version": 3
      },
      "file_extension": ".py",
      "mimetype": "text/x-python",
      "name": "python",
      "nbconvert_exporter": "python",
      "pygments_lexer": "ipython3",
      "version": "3.8"
    },
    "kernelspec": {
      "name": "python",
      "display_name": "Python (Pyodide)",
      "language": "python"
    }
  },
  "nbformat_minor": 4,
  "nbformat": 4,
  "cells": [
    {
      "cell_type": "code",
      "source": "import time\nimport nltk\nfrom os import system, name\nimport sys\nimport collections\nfrom nltk.tokenize import word_tokenize",
      "metadata": {
        "trusted": true
      },
      "execution_count": null,
      "outputs": []
    },
    {
      "cell_type": "code",
      "source": "def intro():\n    while True:\n        names = [\"cherry\", \"fearless\", \"rose\"]\n        print(names)\n\n        select = input(\"Enter your name: \")\n        for select in names:\n            if select in names:\n                print(\"Success!\")\n                break\nintro()\n\ndef exit():\n    if select in names:\n        print(\"Success!\")\n        simulation()\n\nexit()",
      "metadata": {
        "trusted": true
      },
      "execution_count": null,
      "outputs": []
    },
    {
      "cell_type": "code",
      "source": "",
      "metadata": {},
      "execution_count": null,
      "outputs": []
    }
  ]
}