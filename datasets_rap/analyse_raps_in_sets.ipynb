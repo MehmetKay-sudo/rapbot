{
 "cells": [
  {
   "cell_type": "code",
   "execution_count": null,
   "id": "916c9eb0",
   "metadata": {},
   "outputs": [],
   "source": [
    "# import the nltk library\n",
    "import nltk\n",
    "\n",
    "# import a specific module word_tokenize\n",
    "from nltk import word_tokenize\n",
    "\n",
    "# define a variable which raptext\n",
    "# open the raptext and read it\n",
    "raptext = open(\"datasets_rap/eminem.txt\"), \"r\").read()\n",
    "tokens = word_tokenize(raptext)\n",
    "print(tokens)"
   ]
  }
 ],
 "metadata": {
  "kernelspec": {
   "display_name": "Python 3 (ipykernel)",
   "language": "python",
   "name": "python3"
  },
  "language_info": {
   "codemirror_mode": {
    "name": "ipython",
    "version": 3
   },
   "file_extension": ".py",
   "mimetype": "text/x-python",
   "name": "python",
   "nbconvert_exporter": "python",
   "pygments_lexer": "ipython3",
   "version": "3.9.13"
  }
 },
 "nbformat": 4,
 "nbformat_minor": 5
}
