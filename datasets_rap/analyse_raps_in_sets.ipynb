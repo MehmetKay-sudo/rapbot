{
 "cells": [
  {
   "cell_type": "code",
   "execution_count": null,
   "id": "916c9eb0",
   "metadata": {},
   "outputs": [],
   "source": [
    "# import lib pandas for datavisualisation\n",
    "import pandas as pd\n",
    "\n",
    "# name of the folder raps_set\n",
    "dataset_raps = \"dataset_raps/\"\n",
    "\n",
    "# name of the rap files\n",
    "\n",
    "\n"
   ]
  }
 ],
 "metadata": {
  "kernelspec": {
   "display_name": "Python 3 (ipykernel)",
   "language": "python",
   "name": "python3"
  },
  "language_info": {
   "codemirror_mode": {
    "name": "ipython",
    "version": 3
   },
   "file_extension": ".py",
   "mimetype": "text/x-python",
   "name": "python",
   "nbconvert_exporter": "python",
   "pygments_lexer": "ipython3",
   "version": "3.9.13"
  }
 },
 "nbformat": 4,
 "nbformat_minor": 5
}
